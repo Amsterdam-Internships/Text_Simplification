{
 "cells": [
  {
   "cell_type": "markdown",
   "metadata": {},
   "source": [
    "This Notebook runs the full pipeline replicating marloes pivot table approach to text simplification."
   ]
  },
  {
   "cell_type": "code",
   "execution_count": null,
   "metadata": {},
   "outputs": [],
   "source": [
    "!pip3 install OpenNMT-py"
   ]
  },
  {
   "cell_type": "code",
   "execution_count": null,
   "metadata": {},
   "outputs": [],
   "source": [
    "#install requirements\n",
    "!pip3 install -r MT-Preparation/requirements.txt"
   ]
  },
  {
   "cell_type": "markdown",
   "metadata": {},
   "source": [
    "<h2>Model 1: Dutch Complex --> English Complex </h2>\n"
   ]
  },
  {
   "cell_type": "code",
   "execution_count": null,
   "metadata": {},
   "outputs": [],
   "source": [
    "#subword input data\n",
    "\n",
    "#using sentencepiece bpe\n",
    "#!python3 nmt/MT-Preparation/subwording/2-subword.py NMT-Data/Model_Dutch_C_English_C/subword_model/source.model eval_data/NL_test_org eval_data/NL_test_org_subword_1\n",
    "\n",
    "#using yttm bpe\n",
    "!python3 data_processing/2_subword.py NMT-Data/Model_Dutch_C_English_C/subword_model/yttm_source.model eval_data/NL_test_org eval_data/NL_test_org_subword_1"
   ]
  },
  {
   "cell_type": "code",
   "execution_count": null,
   "metadata": {},
   "outputs": [],
   "source": [
    "#Translate subworded input data to english\n",
    "!onmt_translate -ban_unk_token -model NMT-Data/Model_Dutch_C_English_C/model/yttm_model_1000.pt -src eval_data/NL_test_org_subword_1 -output NMT-Data/Model_Dutch_C_English_C/model_output/Model_1_pred.txt -verbose "
   ]
  },
  {
   "cell_type": "code",
   "execution_count": null,
   "metadata": {},
   "outputs": [],
   "source": [
    "#Desubword translated english sentences\n",
    "\n",
    "#using sentencepiece\n",
    "#!python3 nmt/MT-Preparation/subwording/3-desubword.py NMT-Data/Model_Dutch_C_English_C/subword_model/target.model NMT-Data/Model_Dutch_C_English_C/model_output/Model_1_pred.txt\n",
    "\n",
    "#using yttm\n",
    "!python3 data_processing/3_desubword.py NMT-Data/Model_Dutch_C_English_C/subword_model/yttm_target.model NMT-Data/Model_Dutch_C_English_C/model_output/Model_1_pred.txt NMT-Data/Model_Dutch_C_English_C/model_output/Model_1_pred.txt.desubword"
   ]
  },
  {
   "cell_type": "markdown",
   "metadata": {},
   "source": [
    "<h2>Model 2: English Complex --> English Simple </h2>\n"
   ]
  },
  {
   "cell_type": "code",
   "execution_count": null,
   "metadata": {},
   "outputs": [],
   "source": [
    "#Subword Translated output data\n",
    "\n",
    "#using sentencepiece\n",
    "#!python3 nmt/MT-Preparation/subwording/2-subword.py NMT-Data/Model_English_C_English_S/subword_model/source.model NMT-Data/Model_Dutch_C_English_C/model_output/Model_1_pred.txt.desubword eval_data/NL_test_org_subword_2\n",
    "\n",
    "#using yttm bpe\n",
    "!python3 data_processing/2_subword.py NMT-Data/Model_English_C_English_S/subword_model/yttm_source.model NMT-Data/Model_Dutch_C_English_C/model_output/Model_1_pred.txt.desubword eval_data/NL_test_org_subword_2"
   ]
  },
  {
   "cell_type": "code",
   "execution_count": null,
   "metadata": {},
   "outputs": [],
   "source": [
    "#Simplify Data\n",
    "!onmt_translate -ban_unk_token -model NMT-Data/Model_English_C_English_S/model/yttm_model_1000.pt -src eval_data/NL_test_org_subword_2 -output NMT-Data/Model_English_C_English_S/model_output/Model_2_pred.txt -verbose "
   ]
  },
  {
   "cell_type": "code",
   "execution_count": null,
   "metadata": {},
   "outputs": [],
   "source": [
    "#Desubword Simplified data\n",
    "\n",
    "#using sentencepiece\n",
    "#!python3 nmt/MT-Preparation/subwording/3-desubword.py NMT-Data/Model_English_C_English_S/subword_model/target.model NMT-Data/Model_English_C_English_S/model_output/Model_2_pred.txt\n",
    "\n",
    "#using yttm\n",
    "!python3 data_processing/3_desubword.py NMT-Data/Model_English_C_English_S/subword_model/yttm_target.model NMT-Data/Model_English_C_English_S/model_output/Model_2_pred.txt NMT-Data/Model_English_C_English_S/model_output/Model_2_pred.txt.desubword"
   ]
  },
  {
   "cell_type": "markdown",
   "metadata": {},
   "source": [
    "<h2>Model 3: English Simple --> Dutch Simple </h2>\n"
   ]
  },
  {
   "cell_type": "code",
   "execution_count": null,
   "metadata": {},
   "outputs": [],
   "source": [
    "#subword Simplified output data\n",
    "\n",
    "#using sentencepiece\n",
    "#!python3 nmt/MT-Preparation/subwording/2-subword.py NMT-Data/Model_English_S_Dutch_S/subword_model/source.model NMT-Data/Model_English_C_English_S/model_output/Model_2_pred.txt.desubword eval_data/NL_test_org_subword_3\n",
    "\n",
    "#using yttm\n",
    "!python3 data_processing/2_subword.py NMT-Data/Model_English_S_Dutch_S/subword_model/yttm_source.model NMT-Data/Model_English_C_English_S/model_output/Model_2_pred.txt.desubword eval_data/NL_test_org_subword_3"
   ]
  },
  {
   "cell_type": "code",
   "execution_count": null,
   "metadata": {},
   "outputs": [],
   "source": [
    "#Translate Simplified data to dutch\n",
    "!onmt_translate -ban_unk_token -model NMT-Data/Model_English_S_Dutch_S/model/mybasemodel_step_9000.pt -src eval_data/NL_test_org_subword_3 -output NMT-Data/Model_English_S_Dutch_S/model_output/Model_3_pred.txt -verbose "
   ]
  },
  {
   "cell_type": "code",
   "execution_count": null,
   "metadata": {},
   "outputs": [],
   "source": [
    "#Desubword Dutch translated data\n",
    "\n",
    "#using sentencepiece\n",
    "#!python3 nmt/MT-Preparation/subwording/3-desubword.py NMT-Data/Model_English_S_Dutch_S/subword_model/target.model NMT-Data/Model_English_S_Dutch_S/model_output/Model_3_pred.txt\n",
    "\n",
    "#using yttm\n",
    "!python3 data_processing/3_desubword.py NMT-Data/Model_English_S_Dutch_S/subword_model/yttm_target.model NMT-Data/Model_English_S_Dutch_S/model_output/Model_3_pred.txt NMT-Data/Model_English_S_Dutch_S/model_output/Model_3_pred.txt.desubword"
   ]
  },
  {
   "cell_type": "markdown",
   "metadata": {},
   "source": [
    "<h2>Pipeline Evaluation</h2>\n"
   ]
  },
  {
   "cell_type": "code",
   "execution_count": null,
   "metadata": {},
   "outputs": [],
   "source": [
    "!python3 evaluate_script.py eval_data/NL_test_org eval_data/NL_test_simp NMT-Data/Model_English_S_Dutch_S/model_output/Model_3_pred.txt.desubword"
   ]
  }
 ],
 "metadata": {
  "kernelspec": {
   "display_name": "base",
   "language": "python",
   "name": "python3"
  },
  "language_info": {
   "codemirror_mode": {
    "name": "ipython",
    "version": 3
   },
   "file_extension": ".py",
   "mimetype": "text/x-python",
   "name": "python",
   "nbconvert_exporter": "python",
   "pygments_lexer": "ipython3",
   "version": "3.9.7 (default, Sep 16 2021, 08:50:36) \n[Clang 10.0.0 ]"
  },
  "orig_nbformat": 4,
  "vscode": {
   "interpreter": {
    "hash": "40d3a090f54c6569ab1632332b64b2c03c39dcf918b08424e98f38b5ae0af88f"
   }
  }
 },
 "nbformat": 4,
 "nbformat_minor": 2
}
